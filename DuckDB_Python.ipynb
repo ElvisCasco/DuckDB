{
  "cells": [
    {
      "cell_type": "raw",
      "metadata": {},
      "source": [
        "---\n",
        "title: DuckDB Examples\n",
        "author: Elvis Casco\n",
        "crossref:\n",
        "  fig-title: Gráfico\n",
        "  tbl-title: Tabla\n",
        "  fig-prefix: Gráfico\n",
        "  tbl-prefix: Tabla\n",
        "format:\n",
        "  docx:\n",
        "    documentclass: report\n",
        "    classoption: landscape\n",
        "    geometry:\n",
        "      - top=5mm\n",
        "      - left=10mm\n",
        "      - right=10mm\n",
        "    echo: false\n",
        "    warnings: false\n",
        "    keep-ipynb: true\n",
        "---"
      ],
      "id": "0365854a"
    },
    {
      "cell_type": "markdown",
      "metadata": {},
      "source": [
        "# DuckDB Tricks Part 1\n",
        "\n",
        "[DuckDB Tricks Part 1](https://duckdb.org/2024/08/19/duckdb-tricks-part-1.html)\n",
        "\n",
        "## Creating the Example Data Set\n"
      ],
      "id": "9bf31004"
    },
    {
      "cell_type": "code",
      "metadata": {},
      "source": [
        "import duckdb"
      ],
      "id": "0ce231fa",
      "execution_count": null,
      "outputs": []
    },
    {
      "cell_type": "code",
      "metadata": {},
      "source": [
        "(\n",
        "    duckdb.sql(f\"\"\"\n",
        "    CREATE OR REPLACE TABLE example (s STRING, x DOUBLE);\n",
        "    INSERT INTO example VALUES ('foo', 10/9), ('bar', 50/7), ('qux', 9/4);\n",
        "    COPY example TO 'example.csv';\n",
        "    \"\"\")\n",
        ")"
      ],
      "id": "e7b2fe25",
      "execution_count": null,
      "outputs": []
    },
    {
      "cell_type": "code",
      "metadata": {},
      "source": [
        "(\n",
        "    duckdb.sql(f\"\"\"\n",
        "    COPY (FROM VALUES ('foo', 10/9), ('bar', 50/7), ('qux', 9/4) t(s, x))\n",
        "    TO 'example.csv';\n",
        "    \"\"\")\n",
        ")"
      ],
      "id": "9d0c72f9",
      "execution_count": null,
      "outputs": []
    },
    {
      "cell_type": "markdown",
      "metadata": {},
      "source": [
        "## Pretty-Printing Floating-Point Numbers\n"
      ],
      "id": "fc158141"
    },
    {
      "cell_type": "code",
      "metadata": {},
      "source": [
        "(\n",
        "    duckdb.sql(f\"\"\"\n",
        "    SELECT x\n",
        "    FROM 'example.csv';\n",
        "    \"\"\")\n",
        ")"
      ],
      "id": "b2b4962f",
      "execution_count": null,
      "outputs": []
    },
    {
      "cell_type": "code",
      "metadata": {},
      "source": [
        "(\n",
        "    duckdb.sql(f\"\"\"\n",
        "    SELECT x::DECIMAL(15, 3) AS x\n",
        "    FROM 'example.csv';\n",
        "    \"\"\")\n",
        ")"
      ],
      "id": "49226655",
      "execution_count": null,
      "outputs": []
    },
    {
      "cell_type": "code",
      "metadata": {},
      "source": [
        "(\n",
        "    duckdb.sql(f\"\"\"\n",
        "    SELECT printf('%.3f', x)\n",
        "    FROM 'example.csv';\n",
        "    \"\"\")\n",
        ")"
      ],
      "id": "572e0ec8",
      "execution_count": null,
      "outputs": []
    },
    {
      "cell_type": "markdown",
      "metadata": {},
      "source": [
        "## Copying the Schema of a Table\n"
      ],
      "id": "d1dabb31"
    },
    {
      "cell_type": "code",
      "metadata": {},
      "source": [
        "(\n",
        "    duckdb.sql(f\"\"\"\n",
        "    CREATE OR REPLACE TABLE example AS\n",
        "        FROM 'example.csv';\n",
        "    CREATE OR REPLACE TABLE tbl AS\n",
        "        FROM example\n",
        "        LIMIT 0;\n",
        "    \"\"\")\n",
        ")"
      ],
      "id": "55b667d1",
      "execution_count": null,
      "outputs": []
    },
    {
      "cell_type": "code",
      "metadata": {},
      "source": [
        "(\n",
        "    duckdb.sql(f\"\"\"\n",
        "    DESCRIBE tbl;\n",
        "    \"\"\")\n",
        ")"
      ],
      "id": "93fe75df",
      "execution_count": null,
      "outputs": []
    },
    {
      "cell_type": "code",
      "metadata": {},
      "source": [
        "(\n",
        "    duckdb.sql(f\"\"\"\n",
        "    CREATE OR REPLACE TABLE example3(s VARCHAR, x DOUBLE);\n",
        "    \"\"\")\n",
        ")"
      ],
      "id": "c8a04f4a",
      "execution_count": null,
      "outputs": []
    },
    {
      "cell_type": "markdown",
      "metadata": {},
      "source": [
        "## Shuffling Data\n"
      ],
      "id": "b9ce5e65"
    },
    {
      "cell_type": "code",
      "metadata": {},
      "source": [
        "(\n",
        "    duckdb.sql(f\"\"\"\n",
        "    FROM 'example.csv' ORDER BY random();\n",
        "    \"\"\")\n",
        ")"
      ],
      "id": "30b50fa5",
      "execution_count": null,
      "outputs": []
    },
    {
      "cell_type": "code",
      "metadata": {},
      "source": [
        "(\n",
        "    duckdb.sql(f\"\"\"\n",
        "    CREATE OR REPLACE TABLE example AS FROM 'example.csv';\n",
        "    FROM example ORDER BY hash(rowid + 42);\n",
        "    \"\"\")\n",
        ")"
      ],
      "id": "8f848697",
      "execution_count": null,
      "outputs": []
    },
    {
      "cell_type": "markdown",
      "metadata": {},
      "source": [
        "## Specifying Types in the CSV Loader\n"
      ],
      "id": "c07f5dc5"
    },
    {
      "cell_type": "code",
      "metadata": {},
      "source": [
        "# (\n",
        "#     duckdb.sql(f\"\"\"\n",
        "#     CREATE OR REPLACE TABLE example AS\n",
        "#         FROM read_csv('example.csv', types = {'x': 'DECIMAL(15, 3)'});\n",
        "#     \"\"\")\n",
        "# )"
      ],
      "id": "fe033489",
      "execution_count": null,
      "outputs": []
    },
    {
      "cell_type": "code",
      "metadata": {},
      "source": [
        "# (\n",
        "#     duckdb.sql(f\"\"\"\n",
        "#     FROM example;\n",
        "#     \"\"\")\n",
        "# )"
      ],
      "id": "b6194cc0",
      "execution_count": null,
      "outputs": []
    },
    {
      "cell_type": "markdown",
      "metadata": {},
      "source": [
        "## Updating CSV Files In-Place\n"
      ],
      "id": "6ebeffde"
    },
    {
      "cell_type": "code",
      "metadata": {},
      "source": [
        "# (\n",
        "#     duckdb.sql(f\"\"\"\n",
        "#     COPY (SELECT s FROM 'example.csv') TO 'example.csv';\n",
        "#     \"\"\")\n",
        "# )"
      ],
      "id": "250bde30",
      "execution_count": null,
      "outputs": []
    },
    {
      "cell_type": "markdown",
      "metadata": {},
      "source": [
        "# DuckDB Tricks – Part 2\n",
        "\n",
        "[DuckDB Tricks – Part 2](https://duckdb.org/2024/10/11/duckdb-tricks-part-2)\n",
        "\n",
        "## Fixing Timestamps in CSV File\n"
      ],
      "id": "4be878e6"
    },
    {
      "cell_type": "code",
      "metadata": {},
      "source": [
        "(\n",
        "    duckdb.sql(f\"\"\"\n",
        "    CREATE OR REPLACE TABLE schedule_raw AS\n",
        "        SELECT * FROM 'https://duckdb.org/data/schedule.csv';\n",
        "\n",
        "    SELECT * FROM schedule_raw;\n",
        "    \"\"\")\n",
        ")"
      ],
      "id": "9ca46a96",
      "execution_count": null,
      "outputs": []
    },
    {
      "cell_type": "code",
      "metadata": {},
      "source": [
        "(\n",
        "    duckdb.sql(f\"\"\"\n",
        "    CREATE OR REPLACE TABLE schedule_cleaned AS\n",
        "        SELECT\n",
        "            timeslot\n",
        "                .regexp_replace(' (\\\\d+)(am|pm)$', ' \\\\1.00\\\\2')\n",
        "                .strptime('%Y-%m-%d %H.%M%p') AS timeslot,\n",
        "            location,\n",
        "            event\n",
        "        FROM schedule_raw;\n",
        "    SELECT * FROM schedule_cleaned;\n",
        "    \"\"\")\n",
        ")"
      ],
      "id": "e05f648e",
      "execution_count": null,
      "outputs": []
    },
    {
      "cell_type": "markdown",
      "metadata": {},
      "source": [
        "## Filling in Missing Values\n"
      ],
      "id": "0a53d4a5"
    },
    {
      "cell_type": "code",
      "metadata": {},
      "source": [
        "(\n",
        "    duckdb.sql(f\"\"\"\n",
        "    CREATE OR REPLACE TABLE timeslot_location_combinations AS \n",
        "        SELECT timeslot, location\n",
        "        FROM (SELECT DISTINCT timeslot FROM schedule_cleaned)\n",
        "        CROSS JOIN (SELECT DISTINCT location FROM schedule_cleaned);\n",
        "\n",
        "    CREATE OR REPLACE TABLE schedule_filled AS\n",
        "        SELECT timeslot, location, coalesce(event, '<empty>') AS event\n",
        "        FROM timeslot_location_combinations\n",
        "        LEFT JOIN schedule_cleaned\n",
        "            USING (timeslot, location)\n",
        "        ORDER BY ALL;\n",
        "\n",
        "    SELECT * FROM schedule_filled;\n",
        "    \"\"\")\n",
        ")"
      ],
      "id": "f1e5385e",
      "execution_count": null,
      "outputs": []
    },
    {
      "cell_type": "code",
      "metadata": {},
      "source": [
        "(\n",
        "    duckdb.sql(f\"\"\"\n",
        "    WITH timeslot_location_combinations AS (\n",
        "        SELECT timeslot, location\n",
        "        FROM (SELECT DISTINCT timeslot FROM schedule_cleaned)\n",
        "        CROSS JOIN (SELECT DISTINCT location FROM schedule_cleaned)\n",
        "    )\n",
        "    SELECT timeslot, location, coalesce(event, '<empty>') AS event\n",
        "    FROM timeslot_location_combinations\n",
        "    LEFT JOIN schedule_cleaned\n",
        "        USING (timeslot, location)\n",
        "    ORDER BY ALL;\n",
        "    \"\"\")\n",
        ")"
      ],
      "id": "24c0f99a",
      "execution_count": null,
      "outputs": []
    },
    {
      "cell_type": "markdown",
      "metadata": {},
      "source": [
        "## Repeated Data Transformation Steps\n"
      ],
      "id": "3fe2c529"
    },
    {
      "cell_type": "code",
      "metadata": {},
      "source": [
        "(\n",
        "    duckdb.sql(f\"\"\"\n",
        "    CREATE OR REPLACE TABLE schedule AS\n",
        "        SELECT * FROM 'https://duckdb.org/data/schedule.csv';\n",
        "\n",
        "    CREATE OR REPLACE TABLE schedule AS\n",
        "        SELECT\n",
        "            timeslot\n",
        "                .regexp_replace(' (\\\\d+)(am|pm)$', ' \\\\1.00\\\\2')\n",
        "                .strptime('%Y-%m-%d %H.%M%p') AS timeslot,\n",
        "            location,\n",
        "            event\n",
        "        FROM schedule;\n",
        "\n",
        "    CREATE OR REPLACE TABLE schedule AS\n",
        "        WITH timeslot_location_combinations AS (\n",
        "            SELECT timeslot, location\n",
        "            FROM (SELECT DISTINCT timeslot FROM schedule)\n",
        "            CROSS JOIN (SELECT DISTINCT location FROM schedule)\n",
        "        )\n",
        "        SELECT timeslot, location, coalesce(event, '<empty>') AS event\n",
        "        FROM timeslot_location_combinations\n",
        "        LEFT JOIN schedule_cleaned\n",
        "            USING (timeslot, location)\n",
        "        ORDER BY ALL;\n",
        "\n",
        "    SELECT * FROM schedule;\n",
        "    \"\"\")\n",
        ")"
      ],
      "id": "3db61c9a",
      "execution_count": null,
      "outputs": []
    },
    {
      "cell_type": "markdown",
      "metadata": {},
      "source": [
        "## Computing Checksums for Columns\n"
      ],
      "id": "1d449ddd"
    },
    {
      "cell_type": "code",
      "metadata": {},
      "source": [
        "(\n",
        "    duckdb.sql(f\"\"\"\n",
        "    SELECT bit_xor(md5_number(COLUMNS(*)::VARCHAR))\n",
        "    FROM schedule;\n",
        "    \"\"\")\n",
        ")"
      ],
      "id": "95c4dc92",
      "execution_count": null,
      "outputs": []
    },
    {
      "cell_type": "markdown",
      "metadata": {},
      "source": [
        "## Creating a Macro for the Checksum Query\n"
      ],
      "id": "bd51c56f"
    },
    {
      "cell_type": "code",
      "metadata": {},
      "source": [
        "# (\n",
        "#     duckdb.sql(f\"\"\"\n",
        "#     CREATE OR REPLACE MACRO checksum(table_name) AS TABLE\n",
        "#         SELECT bit_xor(md5_number(COLUMNS(*)::VARCHAR))\n",
        "#         FROM query_table(table_name);\n",
        "#     FROM checksum('schedule');\n",
        "#     \"\"\")\n",
        "# )"
      ],
      "id": "66034dc1",
      "execution_count": null,
      "outputs": []
    },
    {
      "cell_type": "markdown",
      "metadata": {},
      "source": [
        "# Semi, Anti, and Natural Joins in DuckDB SQL\n",
        "\n",
        "## Create data\n"
      ],
      "id": "95a92927"
    },
    {
      "cell_type": "code",
      "metadata": {},
      "source": [
        "import duckdb\n",
        "import pandas as pd\n",
        "conn = duckdb.connect()\n",
        "\n",
        "users = {\n",
        "    'User_ID': [123, 124, 125],\n",
        "    'User_Name': ['Bob', 'Alice', 'Carrie'],\n",
        "}\n",
        "\n",
        "users = pd.DataFrame(users)\n",
        "users\n",
        "\n",
        "orders = {\n",
        "    'User_ID': [123, 125, 126],\n",
        "    'Order_ID': [333, 222, 111],\n",
        "}\n",
        "\n",
        "orders = pd.DataFrame(orders)\n",
        "orders"
      ],
      "id": "d87eb93c",
      "execution_count": null,
      "outputs": []
    },
    {
      "cell_type": "markdown",
      "metadata": {},
      "source": [
        "## Semi Join\n"
      ],
      "id": "1768686e"
    },
    {
      "cell_type": "code",
      "metadata": {},
      "source": [
        "query = \"\"\"\n",
        "select *\n",
        "from users U\n",
        "SEMI JOIN orders O\n",
        "ON (U.User_ID = O.User_ID);\n",
        "\"\"\"\n",
        "\n",
        "duckdb.sql(query).df()"
      ],
      "id": "99a3240f",
      "execution_count": null,
      "outputs": []
    },
    {
      "cell_type": "markdown",
      "metadata": {},
      "source": [
        "## Anti Join\n"
      ],
      "id": "408283ae"
    },
    {
      "cell_type": "code",
      "metadata": {},
      "source": [
        "query = \"\"\"\n",
        "select *\n",
        "from users U\n",
        "SEMI JOIN orders O\n",
        "ON (U.User_ID = O.User_ID);\n",
        "\"\"\"\n",
        "\n",
        "duckdb.sql(query).df()"
      ],
      "id": "c18c4ebe",
      "execution_count": null,
      "outputs": []
    },
    {
      "cell_type": "markdown",
      "metadata": {},
      "source": [
        "## Natural Join\n"
      ],
      "id": "10d11571"
    },
    {
      "cell_type": "code",
      "metadata": {},
      "source": [
        "query = \"\"\"\n",
        "select *\n",
        "from users U\n",
        "NATURAL JOIN orders O;\n",
        "\"\"\"\n",
        "\n",
        "duckdb.sql(query).df()"
      ],
      "id": "bbc0138a",
      "execution_count": null,
      "outputs": []
    },
    {
      "cell_type": "markdown",
      "metadata": {},
      "source": [
        "# External Aggregation in DuckDB\n",
        "\n",
        "[Memory Management in DuckDB](https://duckdb.org/2024/07/09/memory-management)\n",
        "\n",
        "[External Aggregation in DuckDB](https://duckdb.org/2024/03/29/external-aggregation.html)\n",
        "\n",
        "## Experiments\n",
        "\n",
        "Data: https://blobs.duckdb.org/data/G1_1e9_2e0_0_0.csv.zst\n"
      ],
      "id": "a565faa1"
    },
    {
      "cell_type": "code",
      "metadata": {},
      "source": [
        "(\n",
        "    duckdb.sql(f\"\"\"\n",
        "    SET preserve_insertion_order = false;\n",
        "    CREATE TABLE y (\n",
        "        id1 VARCHAR, id2 VARCHAR, id3 VARCHAR,\n",
        "        id4 INT, id5 INT, id6 INT, v1 INT, v2 INT,\n",
        "        v3 FLOAT);\n",
        "    COPY y FROM 'G1_1e9_2e0_0_0.csv.zst' (FORMAT CSV, AUTO_DETECT true);\n",
        "    CREATE TYPE id1ENUM AS ENUM (SELECT id1 FROM y);\n",
        "    CREATE TYPE id2ENUM AS ENUM (SELECT id2 FROM y);\n",
        "    CREATE TABLE x (\n",
        "        id1 id1ENUM, id2 id2ENUM, id3 VARCHAR,\n",
        "        id4 INT, id5 INT, id6 INT, v1 INT, v2 INT,\n",
        "        v3 FLOAT);\n",
        "    INSERT INTO x (SELECT * FROM y);\n",
        "    DROP TABLE IF EXISTS y;\n",
        "    \"\"\")\n",
        ")"
      ],
      "id": "82fc9451",
      "execution_count": null,
      "outputs": []
    },
    {
      "cell_type": "code",
      "metadata": {},
      "source": [
        "# Query 1: ~100 unique groups\n",
        "(\n",
        "    duckdb.sql(f\"\"\"\n",
        "    CREATE OR REPLACE TABLE ans AS\n",
        "    SELECT id1, sum(v1) AS v1\n",
        "    FROM x\n",
        "    GROUP BY id1;\n",
        "    \"\"\")\n",
        ")"
      ],
      "id": "bde544f6",
      "execution_count": null,
      "outputs": []
    },
    {
      "cell_type": "code",
      "metadata": {},
      "source": [
        "# Query 2: ~10,000 unique groups\n",
        "(\n",
        "    duckdb.sql(f\"\"\"\n",
        "    CREATE OR REPLACE TABLE ans AS\n",
        "    SELECT id1, id2, sum(v1) AS v1\n",
        "    FROM x\n",
        "    GROUP BY id1, id2;\n",
        "    \"\"\")\n",
        ")"
      ],
      "id": "80de2b2d",
      "execution_count": null,
      "outputs": []
    },
    {
      "cell_type": "code",
      "metadata": {},
      "source": [
        "(\n",
        "    duckdb.sql(f\"\"\"\n",
        "    CREATE OR REPLACE TABLE ans AS\n",
        "    SELECT id3, sum(v1) AS v1, avg(v3) AS v3\n",
        "    FROM x\n",
        "    GROUP BY id3;\n",
        "    \"\"\")\n",
        ")"
      ],
      "id": "1f57c447",
      "execution_count": null,
      "outputs": []
    },
    {
      "cell_type": "code",
      "metadata": {},
      "source": [
        "(\n",
        "    duckdb.sql(f\"\"\"\n",
        "\n",
        "    \"\"\")\n",
        ")"
      ],
      "id": "047365dc",
      "execution_count": null,
      "outputs": []
    },
    {
      "cell_type": "code",
      "metadata": {},
      "source": [
        "(\n",
        "    duckdb.sql(f\"\"\"\n",
        "\n",
        "    \"\"\")\n",
        ")"
      ],
      "id": "1f52a9da",
      "execution_count": null,
      "outputs": []
    },
    {
      "cell_type": "code",
      "metadata": {},
      "source": [
        "(\n",
        "    duckdb.sql(f\"\"\"\n",
        "\n",
        "    \"\"\")\n",
        ")"
      ],
      "id": "a8d5b7db",
      "execution_count": null,
      "outputs": []
    },
    {
      "cell_type": "code",
      "metadata": {},
      "source": [
        "(\n",
        "    duckdb.sql(f\"\"\"\n",
        "\n",
        "    \"\"\")\n",
        ")"
      ],
      "id": "79d047dd",
      "execution_count": null,
      "outputs": []
    },
    {
      "cell_type": "code",
      "metadata": {},
      "source": [
        "(\n",
        "    duckdb.sql(f\"\"\"\n",
        "\n",
        "    \"\"\")\n",
        ")"
      ],
      "id": "9318da64",
      "execution_count": null,
      "outputs": []
    },
    {
      "cell_type": "code",
      "metadata": {},
      "source": [
        "(\n",
        "    duckdb.sql(f\"\"\"\n",
        "\n",
        "    \"\"\")\n",
        ")"
      ],
      "id": "ec812515",
      "execution_count": null,
      "outputs": []
    },
    {
      "cell_type": "code",
      "metadata": {},
      "source": [
        "(\n",
        "    duckdb.sql(f\"\"\"\n",
        "\n",
        "    \"\"\")\n",
        ")"
      ],
      "id": "6e624beb",
      "execution_count": null,
      "outputs": []
    },
    {
      "cell_type": "code",
      "metadata": {},
      "source": [
        "(\n",
        "    duckdb.sql(f\"\"\"\n",
        "\n",
        "    \"\"\")\n",
        ")"
      ],
      "id": "c168c43a",
      "execution_count": null,
      "outputs": []
    },
    {
      "cell_type": "code",
      "metadata": {},
      "source": [
        "(\n",
        "    duckdb.sql(f\"\"\"\n",
        "\n",
        "    \"\"\")\n",
        ")"
      ],
      "id": "31ebbf1f",
      "execution_count": null,
      "outputs": []
    },
    {
      "cell_type": "code",
      "metadata": {},
      "source": [
        "(\n",
        "    duckdb.sql(f\"\"\"\n",
        "\n",
        "    \"\"\")\n",
        ")"
      ],
      "id": "24e92eb3",
      "execution_count": null,
      "outputs": []
    },
    {
      "cell_type": "code",
      "metadata": {},
      "source": [
        "(\n",
        "    duckdb.sql(f\"\"\"\n",
        "\n",
        "    \"\"\")\n",
        ")"
      ],
      "id": "667c4d22",
      "execution_count": null,
      "outputs": []
    },
    {
      "cell_type": "code",
      "metadata": {},
      "source": [
        "(\n",
        "    duckdb.sql(f\"\"\"\n",
        "\n",
        "    \"\"\")\n",
        ")"
      ],
      "id": "35e2f67d",
      "execution_count": null,
      "outputs": []
    },
    {
      "cell_type": "code",
      "metadata": {},
      "source": [
        "(\n",
        "    duckdb.sql(f\"\"\"\n",
        "\n",
        "    \"\"\")\n",
        ")"
      ],
      "id": "13962484",
      "execution_count": null,
      "outputs": []
    },
    {
      "cell_type": "code",
      "metadata": {},
      "source": [
        "(\n",
        "    duckdb.sql(f\"\"\"\n",
        "\n",
        "    \"\"\")\n",
        ")"
      ],
      "id": "baf3b1cc",
      "execution_count": null,
      "outputs": []
    },
    {
      "cell_type": "code",
      "metadata": {},
      "source": [
        "(\n",
        "    duckdb.sql(f\"\"\"\n",
        "\n",
        "    \"\"\")\n",
        ")"
      ],
      "id": "34981ca0",
      "execution_count": null,
      "outputs": []
    },
    {
      "cell_type": "code",
      "metadata": {},
      "source": [
        "(\n",
        "    duckdb.sql(f\"\"\"\n",
        "\n",
        "    \"\"\")\n",
        ")"
      ],
      "id": "9f125edd",
      "execution_count": null,
      "outputs": []
    },
    {
      "cell_type": "code",
      "metadata": {},
      "source": [
        "(\n",
        "    duckdb.sql(f\"\"\"\n",
        "\n",
        "    \"\"\")\n",
        ")"
      ],
      "id": "1ed04731",
      "execution_count": null,
      "outputs": []
    },
    {
      "cell_type": "code",
      "metadata": {},
      "source": [
        "(\n",
        "    duckdb.sql(f\"\"\"\n",
        "\n",
        "    \"\"\")\n",
        ")"
      ],
      "id": "ad1ec1bf",
      "execution_count": null,
      "outputs": []
    },
    {
      "cell_type": "code",
      "metadata": {},
      "source": [
        "(\n",
        "    duckdb.sql(f\"\"\"\n",
        "\n",
        "    \"\"\")\n",
        ")"
      ],
      "id": "451772ed",
      "execution_count": null,
      "outputs": []
    },
    {
      "cell_type": "code",
      "metadata": {},
      "source": [
        "(\n",
        "    duckdb.sql(f\"\"\"\n",
        "\n",
        "    \"\"\")\n",
        ")"
      ],
      "id": "85488a3e",
      "execution_count": null,
      "outputs": []
    },
    {
      "cell_type": "code",
      "metadata": {},
      "source": [
        "(\n",
        "    duckdb.sql(f\"\"\"\n",
        "\n",
        "    \"\"\")\n",
        ")"
      ],
      "id": "60337f73",
      "execution_count": null,
      "outputs": []
    },
    {
      "cell_type": "code",
      "metadata": {},
      "source": [
        "(\n",
        "    duckdb.sql(f\"\"\"\n",
        "\n",
        "    \"\"\")\n",
        ")"
      ],
      "id": "50002d83",
      "execution_count": null,
      "outputs": []
    },
    {
      "cell_type": "code",
      "metadata": {},
      "source": [
        "(\n",
        "    duckdb.sql(f\"\"\"\n",
        "\n",
        "    \"\"\")\n",
        ")"
      ],
      "id": "c7f1a687",
      "execution_count": null,
      "outputs": []
    },
    {
      "cell_type": "code",
      "metadata": {},
      "source": [
        "(\n",
        "    duckdb.sql(f\"\"\"\n",
        "\n",
        "    \"\"\")\n",
        ")"
      ],
      "id": "852d7e52",
      "execution_count": null,
      "outputs": []
    },
    {
      "cell_type": "code",
      "metadata": {},
      "source": [
        "(\n",
        "    duckdb.sql(f\"\"\"\n",
        "\n",
        "    \"\"\")\n",
        ")"
      ],
      "id": "67275fb3",
      "execution_count": null,
      "outputs": []
    },
    {
      "cell_type": "code",
      "metadata": {},
      "source": [
        "(\n",
        "    duckdb.sql(f\"\"\"\n",
        "\n",
        "    \"\"\")\n",
        ")"
      ],
      "id": "e0155274",
      "execution_count": null,
      "outputs": []
    },
    {
      "cell_type": "code",
      "metadata": {},
      "source": [
        "(\n",
        "    duckdb.sql(f\"\"\"\n",
        "\n",
        "    \"\"\")\n",
        ")"
      ],
      "id": "b65c3c09",
      "execution_count": null,
      "outputs": []
    },
    {
      "cell_type": "code",
      "metadata": {},
      "source": [
        "(\n",
        "    duckdb.sql(f\"\"\"\n",
        "\n",
        "    \"\"\")\n",
        ")"
      ],
      "id": "896e09f2",
      "execution_count": null,
      "outputs": []
    },
    {
      "cell_type": "code",
      "metadata": {},
      "source": [
        "(\n",
        "    duckdb.sql(f\"\"\"\n",
        "\n",
        "    \"\"\")\n",
        ")"
      ],
      "id": "35fd7805",
      "execution_count": null,
      "outputs": []
    },
    {
      "cell_type": "code",
      "metadata": {},
      "source": [
        "(\n",
        "    duckdb.sql(f\"\"\"\n",
        "\n",
        "    \"\"\")\n",
        ")"
      ],
      "id": "b7386f82",
      "execution_count": null,
      "outputs": []
    },
    {
      "cell_type": "code",
      "metadata": {},
      "source": [
        "(\n",
        "    duckdb.sql(f\"\"\"\n",
        "\n",
        "    \"\"\")\n",
        ")"
      ],
      "id": "e7da1e61",
      "execution_count": null,
      "outputs": []
    },
    {
      "cell_type": "code",
      "metadata": {},
      "source": [
        "(\n",
        "    duckdb.sql(f\"\"\"\n",
        "\n",
        "    \"\"\")\n",
        ")"
      ],
      "id": "0de20326",
      "execution_count": null,
      "outputs": []
    },
    {
      "cell_type": "code",
      "metadata": {},
      "source": [
        "(\n",
        "    duckdb.sql(f\"\"\"\n",
        "\n",
        "    \"\"\")\n",
        ")"
      ],
      "id": "0799b8e0",
      "execution_count": null,
      "outputs": []
    },
    {
      "cell_type": "code",
      "metadata": {},
      "source": [
        "(\n",
        "    duckdb.sql(f\"\"\"\n",
        "\n",
        "    \"\"\")\n",
        ")"
      ],
      "id": "cc0a08e2",
      "execution_count": null,
      "outputs": []
    },
    {
      "cell_type": "code",
      "metadata": {},
      "source": [
        "(\n",
        "    duckdb.sql(f\"\"\"\n",
        "\n",
        "    \"\"\")\n",
        ")"
      ],
      "id": "ef7048f1",
      "execution_count": null,
      "outputs": []
    },
    {
      "cell_type": "code",
      "metadata": {},
      "source": [
        "(\n",
        "    duckdb.sql(f\"\"\"\n",
        "\n",
        "    \"\"\")\n",
        ")"
      ],
      "id": "ca441457",
      "execution_count": null,
      "outputs": []
    },
    {
      "cell_type": "code",
      "metadata": {},
      "source": [
        "(\n",
        "    duckdb.sql(f\"\"\"\n",
        "\n",
        "    \"\"\")\n",
        ")"
      ],
      "id": "2c74691e",
      "execution_count": null,
      "outputs": []
    },
    {
      "cell_type": "code",
      "metadata": {},
      "source": [
        "(\n",
        "    duckdb.sql(f\"\"\"\n",
        "\n",
        "    \"\"\")\n",
        ")"
      ],
      "id": "f0d0ec57",
      "execution_count": null,
      "outputs": []
    },
    {
      "cell_type": "code",
      "metadata": {},
      "source": [
        "(\n",
        "    duckdb.sql(f\"\"\"\n",
        "\n",
        "    \"\"\")\n",
        ")"
      ],
      "id": "3fc247c1",
      "execution_count": null,
      "outputs": []
    },
    {
      "cell_type": "code",
      "metadata": {},
      "source": [
        "(\n",
        "    duckdb.sql(f\"\"\"\n",
        "\n",
        "    \"\"\")\n",
        ")"
      ],
      "id": "6aa60f31",
      "execution_count": null,
      "outputs": []
    },
    {
      "cell_type": "code",
      "metadata": {},
      "source": [
        "(\n",
        "    duckdb.sql(f\"\"\"\n",
        "\n",
        "    \"\"\")\n",
        ")"
      ],
      "id": "92a9a546",
      "execution_count": null,
      "outputs": []
    }
  ],
  "metadata": {
    "kernelspec": {
      "display_name": "Python 3",
      "language": "python",
      "name": "python3"
    }
  },
  "nbformat": 4,
  "nbformat_minor": 5
}